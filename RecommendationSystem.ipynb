{
 "cells": [
  {
   "cell_type": "code",
   "execution_count": 1,
   "metadata": {},
   "outputs": [],
   "source": [
    "# Importar librerías \n",
    "import pandas as pd\n",
    "import numpy as np\n",
    "\n",
    "import matplotlib.pyplot as plt\n",
    "%matplotlib inline\n",
    "\n",
    "# Librerías para entrenar el modelo\n",
    "from surprise import Dataset, Reader\n",
    "from surprise import SVD, accuracy\n",
    "from surprise.model_selection import train_test_split\n",
    "from surprise.model_selection import cross_validate"
   ]
  },
  {
   "cell_type": "code",
   "execution_count": 3,
   "metadata": {},
   "outputs": [],
   "source": [
    "# Leer el archivo csv con los datos de películas y calificaciones\n",
    "df_movies = pd.read_csv(\"df_plataformas.csv\")\n",
    "df_score = pd.read_csv(\"df_score.csv\")"
   ]
  },
  {
   "cell_type": "code",
   "execution_count": 6,
   "metadata": {},
   "outputs": [],
   "source": [
    "df_titles= df_movies[['id','title']]"
   ]
  },
  {
   "cell_type": "code",
   "execution_count": 8,
   "metadata": {},
   "outputs": [],
   "source": [
    "# Limitamos el dataset a N_filas\n",
    "N_filas = 100000 \n",
    "\n",
    "# Crear un objeto Reader con el rango de calificaciones permitido\n",
    "reader = Reader(rating_scale=(1, 5))\n",
    "\n",
    "# Utilizar el objeto Reader para leer los datos del DataFrame\n",
    "data = Dataset.load_from_df(df_score[['userId', 'id', 'scored']][:N_filas], reader)"
   ]
  },
  {
   "cell_type": "code",
   "execution_count": 9,
   "metadata": {},
   "outputs": [],
   "source": [
    "# Dividir el conjunto de datos en subconjuntos de entrenamiento y prueba\n",
    "trainset, testset = train_test_split(data, test_size=0.25)"
   ]
  },
  {
   "cell_type": "code",
   "execution_count": 10,
   "metadata": {},
   "outputs": [
    {
     "data": {
      "text/plain": [
       "<surprise.prediction_algorithms.matrix_factorization.SVD at 0x22d50b23be0>"
      ]
     },
     "execution_count": 10,
     "metadata": {},
     "output_type": "execute_result"
    }
   ],
   "source": [
    "# Crear un modelo de Singular Value Decomposition\n",
    "model = SVD()\n",
    "\n",
    "# Entrenar el modelo\n",
    "model.fit(trainset)"
   ]
  },
  {
   "cell_type": "code",
   "execution_count": 11,
   "metadata": {},
   "outputs": [],
   "source": [
    "# Hacer predicciones de calificación para el conjunto de prueba\n",
    "predictions = model.test(testset)"
   ]
  },
  {
   "cell_type": "code",
   "execution_count": 12,
   "metadata": {},
   "outputs": [
    {
     "data": {
      "text/plain": [
       "Prediction(uid=842, iid='as3363', r_ui=5.0, est=4.555696930916854, details={'was_impossible': False})"
      ]
     },
     "execution_count": 12,
     "metadata": {},
     "output_type": "execute_result"
    }
   ],
   "source": [
    "predictions[1]"
   ]
  },
  {
   "cell_type": "code",
   "execution_count": 13,
   "metadata": {},
   "outputs": [
    {
     "data": {
      "text/plain": [
       "Prediction(uid=124380, iid=3.5, r_ui=None, est=3.5259533333333333, details={'was_impossible': False})"
      ]
     },
     "execution_count": 13,
     "metadata": {},
     "output_type": "execute_result"
    }
   ],
   "source": [
    "# Hacemos una predicción al azar para usuario y película\n",
    "model.predict(124380,3.5)"
   ]
  },
  {
   "cell_type": "code",
   "execution_count": 26,
   "metadata": {},
   "outputs": [
    {
     "data": {
      "text/html": [
       "<div>\n",
       "<style scoped>\n",
       "    .dataframe tbody tr th:only-of-type {\n",
       "        vertical-align: middle;\n",
       "    }\n",
       "\n",
       "    .dataframe tbody tr th {\n",
       "        vertical-align: top;\n",
       "    }\n",
       "\n",
       "    .dataframe thead th {\n",
       "        text-align: right;\n",
       "    }\n",
       "</style>\n",
       "<table border=\"1\" class=\"dataframe\">\n",
       "  <thead>\n",
       "    <tr style=\"text-align: right;\">\n",
       "      <th></th>\n",
       "      <th>userId</th>\n",
       "      <th>scored</th>\n",
       "      <th>timestamp</th>\n",
       "      <th>id</th>\n",
       "      <th>title</th>\n",
       "    </tr>\n",
       "  </thead>\n",
       "  <tbody>\n",
       "    <tr>\n",
       "      <th>0</th>\n",
       "      <td>2044</td>\n",
       "      <td>5.0</td>\n",
       "      <td>1996-07-19</td>\n",
       "      <td>ns7843</td>\n",
       "      <td>rectify</td>\n",
       "    </tr>\n",
       "    <tr>\n",
       "      <th>1</th>\n",
       "      <td>2044</td>\n",
       "      <td>4.0</td>\n",
       "      <td>1996-07-19</td>\n",
       "      <td>as2032</td>\n",
       "      <td>jesus: his life</td>\n",
       "    </tr>\n",
       "    <tr>\n",
       "      <th>2</th>\n",
       "      <td>2044</td>\n",
       "      <td>5.0</td>\n",
       "      <td>1996-07-19</td>\n",
       "      <td>as5402</td>\n",
       "      <td>dons of disco</td>\n",
       "    </tr>\n",
       "    <tr>\n",
       "      <th>3</th>\n",
       "      <td>2044</td>\n",
       "      <td>5.0</td>\n",
       "      <td>1996-07-19</td>\n",
       "      <td>as5871</td>\n",
       "      <td>a i 1.o</td>\n",
       "    </tr>\n",
       "    <tr>\n",
       "      <th>4</th>\n",
       "      <td>2044</td>\n",
       "      <td>4.0</td>\n",
       "      <td>1996-07-19</td>\n",
       "      <td>as2688</td>\n",
       "      <td>debra digiovanni: single, awkward, female</td>\n",
       "    </tr>\n",
       "    <tr>\n",
       "      <th>5</th>\n",
       "      <td>2044</td>\n",
       "      <td>5.0</td>\n",
       "      <td>1996-07-19</td>\n",
       "      <td>hs1706</td>\n",
       "      <td>darwin's game</td>\n",
       "    </tr>\n",
       "    <tr>\n",
       "      <th>6</th>\n",
       "      <td>2044</td>\n",
       "      <td>5.0</td>\n",
       "      <td>1996-07-19</td>\n",
       "      <td>ds870</td>\n",
       "      <td>dug's special mission</td>\n",
       "    </tr>\n",
       "    <tr>\n",
       "      <th>7</th>\n",
       "      <td>2044</td>\n",
       "      <td>4.0</td>\n",
       "      <td>1996-07-19</td>\n",
       "      <td>ns6564</td>\n",
       "      <td>dare to be wild</td>\n",
       "    </tr>\n",
       "    <tr>\n",
       "      <th>8</th>\n",
       "      <td>2044</td>\n",
       "      <td>4.0</td>\n",
       "      <td>1996-07-19</td>\n",
       "      <td>as6299</td>\n",
       "      <td>supa strikas - born to play soccer</td>\n",
       "    </tr>\n",
       "    <tr>\n",
       "      <th>9</th>\n",
       "      <td>2044</td>\n",
       "      <td>5.0</td>\n",
       "      <td>1996-07-19</td>\n",
       "      <td>ns4081</td>\n",
       "      <td>zach galifianakis: live at the purple onion</td>\n",
       "    </tr>\n",
       "    <tr>\n",
       "      <th>10</th>\n",
       "      <td>2044</td>\n",
       "      <td>5.0</td>\n",
       "      <td>1996-07-19</td>\n",
       "      <td>ns8786</td>\n",
       "      <td>yom</td>\n",
       "    </tr>\n",
       "    <tr>\n",
       "      <th>11</th>\n",
       "      <td>2044</td>\n",
       "      <td>4.0</td>\n",
       "      <td>1996-07-19</td>\n",
       "      <td>as7809</td>\n",
       "      <td>home invasion</td>\n",
       "    </tr>\n",
       "    <tr>\n",
       "      <th>12</th>\n",
       "      <td>2044</td>\n",
       "      <td>5.0</td>\n",
       "      <td>1996-07-19</td>\n",
       "      <td>hs3010</td>\n",
       "      <td>ouran high school host club</td>\n",
       "    </tr>\n",
       "    <tr>\n",
       "      <th>13</th>\n",
       "      <td>2044</td>\n",
       "      <td>5.0</td>\n",
       "      <td>1996-07-19</td>\n",
       "      <td>hs1962</td>\n",
       "      <td>my little pony: a very minty christmas</td>\n",
       "    </tr>\n",
       "    <tr>\n",
       "      <th>14</th>\n",
       "      <td>2044</td>\n",
       "      <td>4.0</td>\n",
       "      <td>1996-07-19</td>\n",
       "      <td>as8953</td>\n",
       "      <td>elvira's movie macabre: the killer shrews</td>\n",
       "    </tr>\n",
       "    <tr>\n",
       "      <th>15</th>\n",
       "      <td>2044</td>\n",
       "      <td>5.0</td>\n",
       "      <td>1996-07-19</td>\n",
       "      <td>as7855</td>\n",
       "      <td>funny face</td>\n",
       "    </tr>\n",
       "    <tr>\n",
       "      <th>16</th>\n",
       "      <td>2044</td>\n",
       "      <td>5.0</td>\n",
       "      <td>1996-07-19</td>\n",
       "      <td>as4354</td>\n",
       "      <td>yuvarathnaa (tamil)</td>\n",
       "    </tr>\n",
       "    <tr>\n",
       "      <th>17</th>\n",
       "      <td>2044</td>\n",
       "      <td>4.0</td>\n",
       "      <td>1996-07-19</td>\n",
       "      <td>as3992</td>\n",
       "      <td>test</td>\n",
       "    </tr>\n",
       "    <tr>\n",
       "      <th>18</th>\n",
       "      <td>2044</td>\n",
       "      <td>5.0</td>\n",
       "      <td>1996-07-19</td>\n",
       "      <td>ns7326</td>\n",
       "      <td>lo que la vida me robó</td>\n",
       "    </tr>\n",
       "    <tr>\n",
       "      <th>19</th>\n",
       "      <td>2044</td>\n",
       "      <td>4.0</td>\n",
       "      <td>1996-07-19</td>\n",
       "      <td>as6639</td>\n",
       "      <td>ishida and asakura</td>\n",
       "    </tr>\n",
       "    <tr>\n",
       "      <th>20</th>\n",
       "      <td>2044</td>\n",
       "      <td>4.0</td>\n",
       "      <td>1996-07-19</td>\n",
       "      <td>hs2675</td>\n",
       "      <td>nobunagun</td>\n",
       "    </tr>\n",
       "    <tr>\n",
       "      <th>21</th>\n",
       "      <td>2044</td>\n",
       "      <td>4.0</td>\n",
       "      <td>1996-07-19</td>\n",
       "      <td>as6787</td>\n",
       "      <td>a place called hollywood</td>\n",
       "    </tr>\n",
       "    <tr>\n",
       "      <th>22</th>\n",
       "      <td>2044</td>\n",
       "      <td>5.0</td>\n",
       "      <td>1996-07-19</td>\n",
       "      <td>ns3647</td>\n",
       "      <td>demetri martin: the overthinker</td>\n",
       "    </tr>\n",
       "    <tr>\n",
       "      <th>23</th>\n",
       "      <td>2044</td>\n",
       "      <td>4.0</td>\n",
       "      <td>1996-07-19</td>\n",
       "      <td>ns3474</td>\n",
       "      <td>the k2</td>\n",
       "    </tr>\n",
       "    <tr>\n",
       "      <th>24</th>\n",
       "      <td>2044</td>\n",
       "      <td>5.0</td>\n",
       "      <td>1996-07-19</td>\n",
       "      <td>hs140</td>\n",
       "      <td>the hunger games</td>\n",
       "    </tr>\n",
       "    <tr>\n",
       "      <th>25</th>\n",
       "      <td>2044</td>\n",
       "      <td>5.0</td>\n",
       "      <td>1996-07-19</td>\n",
       "      <td>as2419</td>\n",
       "      <td>frontier outlaws</td>\n",
       "    </tr>\n",
       "    <tr>\n",
       "      <th>26</th>\n",
       "      <td>2044</td>\n",
       "      <td>5.0</td>\n",
       "      <td>1996-07-19</td>\n",
       "      <td>as6033</td>\n",
       "      <td>kill me three times</td>\n",
       "    </tr>\n",
       "    <tr>\n",
       "      <th>27</th>\n",
       "      <td>2044</td>\n",
       "      <td>5.0</td>\n",
       "      <td>1996-07-19</td>\n",
       "      <td>hs558</td>\n",
       "      <td>tooth fairy</td>\n",
       "    </tr>\n",
       "    <tr>\n",
       "      <th>28</th>\n",
       "      <td>2044</td>\n",
       "      <td>4.0</td>\n",
       "      <td>1996-07-19</td>\n",
       "      <td>as5340</td>\n",
       "      <td>wheels on the jingle bell bus and more christm...</td>\n",
       "    </tr>\n",
       "    <tr>\n",
       "      <th>29</th>\n",
       "      <td>2044</td>\n",
       "      <td>4.0</td>\n",
       "      <td>1996-07-19</td>\n",
       "      <td>hs2559</td>\n",
       "      <td>breakout kings</td>\n",
       "    </tr>\n",
       "    <tr>\n",
       "      <th>30</th>\n",
       "      <td>2044</td>\n",
       "      <td>4.0</td>\n",
       "      <td>1996-07-19</td>\n",
       "      <td>as6587</td>\n",
       "      <td>daddy issues</td>\n",
       "    </tr>\n",
       "    <tr>\n",
       "      <th>31</th>\n",
       "      <td>2044</td>\n",
       "      <td>4.0</td>\n",
       "      <td>1996-07-19</td>\n",
       "      <td>ns2533</td>\n",
       "      <td>dilan 1991</td>\n",
       "    </tr>\n",
       "    <tr>\n",
       "      <th>32</th>\n",
       "      <td>2044</td>\n",
       "      <td>5.0</td>\n",
       "      <td>1996-07-19</td>\n",
       "      <td>as5563</td>\n",
       "      <td>road less traveled</td>\n",
       "    </tr>\n",
       "    <tr>\n",
       "      <th>33</th>\n",
       "      <td>2044</td>\n",
       "      <td>5.0</td>\n",
       "      <td>1996-07-19</td>\n",
       "      <td>as1221</td>\n",
       "      <td>rain fall</td>\n",
       "    </tr>\n",
       "    <tr>\n",
       "      <th>34</th>\n",
       "      <td>2044</td>\n",
       "      <td>4.0</td>\n",
       "      <td>1996-07-19</td>\n",
       "      <td>as400</td>\n",
       "      <td>the wedding night</td>\n",
       "    </tr>\n",
       "    <tr>\n",
       "      <th>35</th>\n",
       "      <td>2044</td>\n",
       "      <td>5.0</td>\n",
       "      <td>1996-07-19</td>\n",
       "      <td>hs939</td>\n",
       "      <td>the united states vs. billie holiday</td>\n",
       "    </tr>\n",
       "  </tbody>\n",
       "</table>\n",
       "</div>"
      ],
      "text/plain": [
       "    userId  scored   timestamp      id  \\\n",
       "0     2044     5.0  1996-07-19  ns7843   \n",
       "1     2044     4.0  1996-07-19  as2032   \n",
       "2     2044     5.0  1996-07-19  as5402   \n",
       "3     2044     5.0  1996-07-19  as5871   \n",
       "4     2044     4.0  1996-07-19  as2688   \n",
       "5     2044     5.0  1996-07-19  hs1706   \n",
       "6     2044     5.0  1996-07-19   ds870   \n",
       "7     2044     4.0  1996-07-19  ns6564   \n",
       "8     2044     4.0  1996-07-19  as6299   \n",
       "9     2044     5.0  1996-07-19  ns4081   \n",
       "10    2044     5.0  1996-07-19  ns8786   \n",
       "11    2044     4.0  1996-07-19  as7809   \n",
       "12    2044     5.0  1996-07-19  hs3010   \n",
       "13    2044     5.0  1996-07-19  hs1962   \n",
       "14    2044     4.0  1996-07-19  as8953   \n",
       "15    2044     5.0  1996-07-19  as7855   \n",
       "16    2044     5.0  1996-07-19  as4354   \n",
       "17    2044     4.0  1996-07-19  as3992   \n",
       "18    2044     5.0  1996-07-19  ns7326   \n",
       "19    2044     4.0  1996-07-19  as6639   \n",
       "20    2044     4.0  1996-07-19  hs2675   \n",
       "21    2044     4.0  1996-07-19  as6787   \n",
       "22    2044     5.0  1996-07-19  ns3647   \n",
       "23    2044     4.0  1996-07-19  ns3474   \n",
       "24    2044     5.0  1996-07-19   hs140   \n",
       "25    2044     5.0  1996-07-19  as2419   \n",
       "26    2044     5.0  1996-07-19  as6033   \n",
       "27    2044     5.0  1996-07-19   hs558   \n",
       "28    2044     4.0  1996-07-19  as5340   \n",
       "29    2044     4.0  1996-07-19  hs2559   \n",
       "30    2044     4.0  1996-07-19  as6587   \n",
       "31    2044     4.0  1996-07-19  ns2533   \n",
       "32    2044     5.0  1996-07-19  as5563   \n",
       "33    2044     5.0  1996-07-19  as1221   \n",
       "34    2044     4.0  1996-07-19   as400   \n",
       "35    2044     5.0  1996-07-19   hs939   \n",
       "\n",
       "                                                title  \n",
       "0                                             rectify  \n",
       "1                                     jesus: his life  \n",
       "2                                       dons of disco  \n",
       "3                                             a i 1.o  \n",
       "4           debra digiovanni: single, awkward, female  \n",
       "5                                       darwin's game  \n",
       "6                               dug's special mission  \n",
       "7                                     dare to be wild  \n",
       "8                  supa strikas - born to play soccer  \n",
       "9         zach galifianakis: live at the purple onion  \n",
       "10                                                yom  \n",
       "11                                      home invasion  \n",
       "12                        ouran high school host club  \n",
       "13             my little pony: a very minty christmas  \n",
       "14          elvira's movie macabre: the killer shrews  \n",
       "15                                         funny face  \n",
       "16                                yuvarathnaa (tamil)  \n",
       "17                                               test  \n",
       "18                             lo que la vida me robó  \n",
       "19                                 ishida and asakura  \n",
       "20                                          nobunagun  \n",
       "21                           a place called hollywood  \n",
       "22                    demetri martin: the overthinker  \n",
       "23                                             the k2  \n",
       "24                                   the hunger games  \n",
       "25                                   frontier outlaws  \n",
       "26                                kill me three times  \n",
       "27                                        tooth fairy  \n",
       "28  wheels on the jingle bell bus and more christm...  \n",
       "29                                     breakout kings  \n",
       "30                                       daddy issues  \n",
       "31                                         dilan 1991  \n",
       "32                                 road less traveled  \n",
       "33                                          rain fall  \n",
       "34                                  the wedding night  \n",
       "35               the united states vs. billie holiday  "
      ]
     },
     "execution_count": 26,
     "metadata": {},
     "output_type": "execute_result"
    }
   ],
   "source": [
    "# Tomaremos un usuario para hacerle una recomendación\n",
    "usuario = 2044\n",
    "  \n",
    "# Tomamos películas a las que haya calificado con 4 o 5 estrellas\n",
    "scored = 4\n",
    "\n",
    "df_user = df_score[(df_score['userId'] == usuario) & (df_score['scored'] >= scored)]\n",
    "df_user = df_user.reset_index(drop=True)\n",
    "df_user = pd.merge(df_user,df_titles, on = \"id\")\n",
    "df_user"
   ]
  },
  {
   "cell_type": "code",
   "execution_count": 27,
   "metadata": {},
   "outputs": [
    {
     "name": "stdout",
     "output_type": "stream",
     "text": [
      "(22998, 2)\n"
     ]
    },
    {
     "data": {
      "text/html": [
       "<div>\n",
       "<style scoped>\n",
       "    .dataframe tbody tr th:only-of-type {\n",
       "        vertical-align: middle;\n",
       "    }\n",
       "\n",
       "    .dataframe tbody tr th {\n",
       "        vertical-align: top;\n",
       "    }\n",
       "\n",
       "    .dataframe thead th {\n",
       "        text-align: right;\n",
       "    }\n",
       "</style>\n",
       "<table border=\"1\" class=\"dataframe\">\n",
       "  <thead>\n",
       "    <tr style=\"text-align: right;\">\n",
       "      <th></th>\n",
       "      <th>id</th>\n",
       "      <th>title</th>\n",
       "    </tr>\n",
       "  </thead>\n",
       "  <tbody>\n",
       "    <tr>\n",
       "      <th>0</th>\n",
       "      <td>as1</td>\n",
       "      <td>the grand seduction</td>\n",
       "    </tr>\n",
       "    <tr>\n",
       "      <th>1</th>\n",
       "      <td>as2</td>\n",
       "      <td>take care good night</td>\n",
       "    </tr>\n",
       "    <tr>\n",
       "      <th>2</th>\n",
       "      <td>as3</td>\n",
       "      <td>secrets of deception</td>\n",
       "    </tr>\n",
       "    <tr>\n",
       "      <th>3</th>\n",
       "      <td>as4</td>\n",
       "      <td>pink: staying true</td>\n",
       "    </tr>\n",
       "    <tr>\n",
       "      <th>4</th>\n",
       "      <td>as5</td>\n",
       "      <td>monster maker</td>\n",
       "    </tr>\n",
       "  </tbody>\n",
       "</table>\n",
       "</div>"
      ],
      "text/plain": [
       "    id                 title\n",
       "0  as1   the grand seduction\n",
       "1  as2  take care good night\n",
       "2  as3  secrets of deception\n",
       "3  as4    pink: staying true\n",
       "4  as5         monster maker"
      ]
     },
     "execution_count": 27,
     "metadata": {},
     "output_type": "execute_result"
    }
   ],
   "source": [
    "# Seleccionamos las primeras 20 000 filas del dataframe e imprimimos las 5 primeras\n",
    "recomendaciones_user = df_titles.iloc[:50000].copy()\n",
    "print(recomendaciones_user.shape)\n",
    "recomendaciones_user.head()"
   ]
  },
  {
   "cell_type": "code",
   "execution_count": 28,
   "metadata": {},
   "outputs": [
    {
     "name": "stdout",
     "output_type": "stream",
     "text": [
      "(62, 4)\n"
     ]
    },
    {
     "data": {
      "text/html": [
       "<div>\n",
       "<style scoped>\n",
       "    .dataframe tbody tr th:only-of-type {\n",
       "        vertical-align: middle;\n",
       "    }\n",
       "\n",
       "    .dataframe tbody tr th {\n",
       "        vertical-align: top;\n",
       "    }\n",
       "\n",
       "    .dataframe thead th {\n",
       "        text-align: right;\n",
       "    }\n",
       "</style>\n",
       "<table border=\"1\" class=\"dataframe\">\n",
       "  <thead>\n",
       "    <tr style=\"text-align: right;\">\n",
       "      <th></th>\n",
       "      <th>userId</th>\n",
       "      <th>scored</th>\n",
       "      <th>timestamp</th>\n",
       "      <th>id</th>\n",
       "    </tr>\n",
       "  </thead>\n",
       "  <tbody>\n",
       "    <tr>\n",
       "      <th>196627</th>\n",
       "      <td>2044</td>\n",
       "      <td>1.0</td>\n",
       "      <td>1996-07-19</td>\n",
       "      <td>hs2382</td>\n",
       "    </tr>\n",
       "    <tr>\n",
       "      <th>196628</th>\n",
       "      <td>2044</td>\n",
       "      <td>3.0</td>\n",
       "      <td>1996-07-19</td>\n",
       "      <td>as8079</td>\n",
       "    </tr>\n",
       "    <tr>\n",
       "      <th>196629</th>\n",
       "      <td>2044</td>\n",
       "      <td>5.0</td>\n",
       "      <td>1996-07-19</td>\n",
       "      <td>ns7843</td>\n",
       "    </tr>\n",
       "    <tr>\n",
       "      <th>196630</th>\n",
       "      <td>2044</td>\n",
       "      <td>4.0</td>\n",
       "      <td>1996-07-19</td>\n",
       "      <td>as2032</td>\n",
       "    </tr>\n",
       "    <tr>\n",
       "      <th>196631</th>\n",
       "      <td>2044</td>\n",
       "      <td>5.0</td>\n",
       "      <td>1996-07-19</td>\n",
       "      <td>as5402</td>\n",
       "    </tr>\n",
       "  </tbody>\n",
       "</table>\n",
       "</div>"
      ],
      "text/plain": [
       "        userId  scored   timestamp      id\n",
       "196627    2044     1.0  1996-07-19  hs2382\n",
       "196628    2044     3.0  1996-07-19  as8079\n",
       "196629    2044     5.0  1996-07-19  ns7843\n",
       "196630    2044     4.0  1996-07-19  as2032\n",
       "196631    2044     5.0  1996-07-19  as5402"
      ]
     },
     "execution_count": 28,
     "metadata": {},
     "output_type": "execute_result"
    }
   ],
   "source": [
    "# Debemos extraer las películas que ya ha visto\n",
    "pelis_vistas = df_score[df_score['userId'] == usuario]\n",
    "print(pelis_vistas.shape)\n",
    "pelis_vistas.head()"
   ]
  },
  {
   "cell_type": "code",
   "execution_count": 29,
   "metadata": {},
   "outputs": [],
   "source": [
    "# películas recomendadas que el usuario aún no ha visto\n",
    "recomendaciones_user = recomendaciones_user[~recomendaciones_user['id'].isin(pelis_vistas)]"
   ]
  },
  {
   "cell_type": "code",
   "execution_count": 30,
   "metadata": {},
   "outputs": [
    {
     "data": {
      "text/plain": [
       "(22998, 2)"
      ]
     },
     "execution_count": 30,
     "metadata": {},
     "output_type": "execute_result"
    }
   ],
   "source": [
    "recomendaciones_user.shape"
   ]
  },
  {
   "cell_type": "code",
   "execution_count": 31,
   "metadata": {},
   "outputs": [],
   "source": [
    "# Recomendamos\n",
    "recomendaciones_user['Estimate_Score'] = recomendaciones_user['id'].apply(lambda x: model.predict(usuario, x).est)"
   ]
  },
  {
   "cell_type": "code",
   "execution_count": 32,
   "metadata": {},
   "outputs": [
    {
     "name": "stdout",
     "output_type": "stream",
     "text": [
      "           id                           title  Estimate_Score\n",
      "11296   hs179                    the simpsons        4.068992\n",
      "118     as119  where is chicky? - chapter two        3.968562\n",
      "17124  ns2934                        polaroid        3.966951\n",
      "13562  hs2445                          casual        3.961273\n",
      "4816   as4817                100 days to live        3.952401\n",
      "14749   ns559                       6 bullets        3.936158\n",
      "10685  ds1018                 life with mikey        3.936057\n",
      "22997  ns8807                          zubaan        3.934334\n",
      "10493   ds826         disney girl vs. monster        3.932819\n",
      "5501   as5502           love of fate: the law        3.932139\n"
     ]
    }
   ],
   "source": [
    "recomendaciones_user = recomendaciones_user.sort_values('Estimate_Score', ascending=False)\n",
    "print(recomendaciones_user.head(10))"
   ]
  },
  {
   "attachments": {},
   "cell_type": "markdown",
   "metadata": {},
   "source": [
    "### Evaluación del modelo"
   ]
  },
  {
   "cell_type": "code",
   "execution_count": 33,
   "metadata": {},
   "outputs": [
    {
     "name": "stdout",
     "output_type": "stream",
     "text": [
      "RMSE: 0.9619\n",
      "Error RMSE del modelo: 0.9618682059585886\n"
     ]
    }
   ],
   "source": [
    "# Imprimir el error RMSE (root mean squared error) del modelo en el conjunto de prueba\n",
    "rmse = accuracy.rmse(predictions)\n",
    "print(f\"Error RMSE del modelo: {rmse}\")"
   ]
  },
  {
   "attachments": {},
   "cell_type": "markdown",
   "metadata": {},
   "source": [
    "### Optimización de hiperparámetros"
   ]
  },
  {
   "cell_type": "code",
   "execution_count": 34,
   "metadata": {},
   "outputs": [
    {
     "name": "stdout",
     "output_type": "stream",
     "text": [
      "1\n",
      "Evaluating RMSE of algorithm SVD on 3 split(s).\n",
      "\n",
      "                  Fold 1  Fold 2  Fold 3  Mean    Std     \n",
      "RMSE (testset)    0.9481  0.9540  0.9488  0.9503  0.0026  \n",
      "Fit time          0.94    0.77    0.78    0.83    0.08    \n",
      "Test time         0.50    0.45    0.42    0.46    0.04    \n",
      "2\n",
      "Evaluating RMSE of algorithm SVD on 3 split(s).\n",
      "\n",
      "                  Fold 1  Fold 2  Fold 3  Mean    Std     \n",
      "RMSE (testset)    0.9460  0.9541  0.9510  0.9504  0.0033  \n",
      "Fit time          0.79    0.82    0.81    0.81    0.02    \n",
      "Test time         0.67    0.44    0.42    0.51    0.11    \n",
      "4\n",
      "Evaluating RMSE of algorithm SVD on 3 split(s).\n",
      "\n",
      "                  Fold 1  Fold 2  Fold 3  Mean    Std     \n",
      "RMSE (testset)    0.9519  0.9439  0.9524  0.9494  0.0039  \n",
      "Fit time          0.84    0.82    0.82    0.83    0.01    \n",
      "Test time         0.44    0.61    0.63    0.56    0.09    \n",
      "8\n",
      "Evaluating RMSE of algorithm SVD on 3 split(s).\n",
      "\n",
      "                  Fold 1  Fold 2  Fold 3  Mean    Std     \n",
      "RMSE (testset)    0.9541  0.9493  0.9503  0.9512  0.0020  \n",
      "Fit time          0.86    0.84    0.87    0.86    0.01    \n",
      "Test time         0.43    0.44    0.62    0.50    0.09    \n",
      "16\n",
      "Evaluating RMSE of algorithm SVD on 3 split(s).\n",
      "\n",
      "                  Fold 1  Fold 2  Fold 3  Mean    Std     \n",
      "RMSE (testset)    0.9525  0.9527  0.9488  0.9513  0.0018  \n",
      "Fit time          0.93    0.97    0.92    0.94    0.02    \n",
      "Test time         0.42    0.43    0.60    0.48    0.08    \n",
      "32\n",
      "Evaluating RMSE of algorithm SVD on 3 split(s).\n",
      "\n",
      "                  Fold 1  Fold 2  Fold 3  Mean    Std     \n",
      "RMSE (testset)    0.9554  0.9491  0.9538  0.9528  0.0027  \n",
      "Fit time          1.15    1.12    1.17    1.15    0.02    \n",
      "Test time         0.65    0.41    0.43    0.50    0.11    \n",
      "64\n",
      "Evaluating RMSE of algorithm SVD on 3 split(s).\n",
      "\n",
      "                  Fold 1  Fold 2  Fold 3  Mean    Std     \n",
      "RMSE (testset)    0.9613  0.9516  0.9553  0.9560  0.0040  \n",
      "Fit time          1.36    1.42    1.45    1.41    0.04    \n",
      "Test time         0.43    0.88    0.63    0.65    0.18    \n",
      "128\n",
      "Evaluating RMSE of algorithm SVD on 3 split(s).\n",
      "\n",
      "                  Fold 1  Fold 2  Fold 3  Mean    Std     \n",
      "RMSE (testset)    0.9559  0.9654  0.9635  0.9616  0.0041  \n",
      "Fit time          1.90    2.19    1.93    2.01    0.13    \n",
      "Test time         0.50    0.44    0.64    0.53    0.09    \n",
      "256\n",
      "Evaluating RMSE of algorithm SVD on 3 split(s).\n",
      "\n",
      "                  Fold 1  Fold 2  Fold 3  Mean    Std     \n",
      "RMSE (testset)    0.9669  0.9737  0.9649  0.9685  0.0038  \n",
      "Fit time          3.03    2.98    3.08    3.03    0.04    \n",
      "Test time         0.65    0.48    0.54    0.55    0.07    \n"
     ]
    }
   ],
   "source": [
    "rmse_test_means = []\n",
    "factores = [1,2,4,8,16,32,64,128,256]\n",
    "\n",
    "for factor in factores:\n",
    "    print(factor)\n",
    "    model = SVD(n_factors=factor)\n",
    "    cv = cross_validate(model, data, measures=['RMSE'], cv = 3, verbose=True)\n",
    "    rmse_test_means.append(np.mean(cv['test_rmse']))"
   ]
  },
  {
   "cell_type": "code",
   "execution_count": 35,
   "metadata": {},
   "outputs": [
    {
     "data": {
      "image/png": "[encoded data removed]",
      "text/plain": [
       "<Figure size 640x480 with 1 Axes>"
      ]
     },
     "metadata": {},
     "output_type": "display_data"
    }
   ],
   "source": [
    "# Ploteamos desempeño según cantidad de factores de SVD\n",
    "plt.scatter(factores, rmse_test_means)\n",
    "plt.xlabel('Numero de factores')\n",
    "plt.ylabel('Error RMSE')\n",
    "plt.show()"
   ]
  },
  {
   "cell_type": "code",
   "execution_count": 4,
   "metadata": {},
   "outputs": [],
   "source": [
    "def recommend_movie(userId, id):\n",
    "    # Obtener la predicción de la calificación que el usuario le daría a la película\n",
    "    prediction = model.predict(userId, id)\n",
    "\n",
    "    # Verificar si el id de la película existe en el DataFrame de películas\n",
    "    if id not in df_movies['id'].unique():\n",
    "        df_score = pd.read_csv(\"df_score.csv\")\n",
    "        return 'La película con el id ingresado no existe.', None\n",
    "\n",
    "    # Verificar si el userId del usuario existe en el DataFrame de calificaciones\n",
    "    if userId not in df_score['userId'].unique():\n",
    "        return 'El usuario con el id ingresado no existe.', None\n",
    "\n",
    "    # Si la predicción es mayor o igual a 3.5, se recomienda la película\n",
    "    if prediction.est >= 3.5:\n",
    "        movie_title = df_movies[df_movies['id'] == id]['title'].values[0]\n",
    "        return f\"Se recomienda ver la película: {movie_title}\" #,prediction.est.round(2)\n",
    "    else:\n",
    "        return f\"No se recomienda ver la película con id {id}\" #, prediction.est.round(2)"
   ]
  },
  {
   "cell_type": "code",
   "execution_count": 5,
   "metadata": {},
   "outputs": [
    {
     "ename": "NameError",
     "evalue": "name 'model' is not defined",
     "output_type": "error",
     "traceback": [
      "\u001b[1;31m---------------------------------------------------------------------------\u001b[0m",
      "\u001b[1;31mNameError\u001b[0m                                 Traceback (most recent call last)",
      "\u001b[1;32me:\\DScience\\PI\\PI01_MLOPS\\RecommendationSystem.ipynb Cell 23\u001b[0m in \u001b[0;36m1\n\u001b[1;32m----> <a href='vscode-notebook-cell:/e%3A/DScience/PI/PI01_MLOPS/RecommendationSystem.ipynb#X31sZmlsZQ%3D%3D?line=0'>1</a>\u001b[0m recommend_movie(\u001b[39m2\u001b[39;49m, \u001b[39m\"\u001b[39;49m\u001b[39mas113\u001b[39;49m\u001b[39m\"\u001b[39;49m)\n",
      "\u001b[1;32me:\\DScience\\PI\\PI01_MLOPS\\RecommendationSystem.ipynb Cell 23\u001b[0m in \u001b[0;36m3\n\u001b[0;32m      <a href='vscode-notebook-cell:/e%3A/DScience/PI/PI01_MLOPS/RecommendationSystem.ipynb#X31sZmlsZQ%3D%3D?line=0'>1</a>\u001b[0m \u001b[39mdef\u001b[39;00m \u001b[39mrecommend_movie\u001b[39m(userId, \u001b[39mid\u001b[39m):\n\u001b[0;32m      <a href='vscode-notebook-cell:/e%3A/DScience/PI/PI01_MLOPS/RecommendationSystem.ipynb#X31sZmlsZQ%3D%3D?line=1'>2</a>\u001b[0m     \u001b[39m# Obtener la predicción de la calificación que el usuario le daría a la película\u001b[39;00m\n\u001b[1;32m----> <a href='vscode-notebook-cell:/e%3A/DScience/PI/PI01_MLOPS/RecommendationSystem.ipynb#X31sZmlsZQ%3D%3D?line=2'>3</a>\u001b[0m     prediction \u001b[39m=\u001b[39m model\u001b[39m.\u001b[39mpredict(userId, \u001b[39mid\u001b[39m)\n\u001b[0;32m      <a href='vscode-notebook-cell:/e%3A/DScience/PI/PI01_MLOPS/RecommendationSystem.ipynb#X31sZmlsZQ%3D%3D?line=4'>5</a>\u001b[0m     \u001b[39m# Verificar si el id de la película existe en el DataFrame de películas\u001b[39;00m\n\u001b[0;32m      <a href='vscode-notebook-cell:/e%3A/DScience/PI/PI01_MLOPS/RecommendationSystem.ipynb#X31sZmlsZQ%3D%3D?line=5'>6</a>\u001b[0m     \u001b[39mif\u001b[39;00m \u001b[39mid\u001b[39m \u001b[39mnot\u001b[39;00m \u001b[39min\u001b[39;00m df_movies[\u001b[39m'\u001b[39m\u001b[39mid\u001b[39m\u001b[39m'\u001b[39m]\u001b[39m.\u001b[39munique():\n",
      "\u001b[1;31mNameError\u001b[0m: name 'model' is not defined"
     ]
    }
   ],
   "source": [
    "recommend_movie(2, \"as113\")"
   ]
  },
  {
   "cell_type": "code",
   "execution_count": 44,
   "metadata": {},
   "outputs": [
    {
     "data": {
      "text/plain": [
       "['modelo_streaming.joblib']"
      ]
     },
     "execution_count": 44,
     "metadata": {},
     "output_type": "execute_result"
    }
   ],
   "source": [
    "from joblib import dump\n",
    "\n",
    "# Guardar el modelo entrenado en un archivo utilizando Joblib\n",
    "dump(model, 'modelo_streaming.joblib')"
   ]
  }
 ],
 "metadata": {
  "kernelspec": {
   "display_name": "Python 3",
   "language": "python",
   "name": "python3"
  },
  "language_info": {
   "codemirror_mode": {
    "name": "ipython",
    "version": 3
   },
   "file_extension": ".py",
   "mimetype": "text/x-python",
   "name": "python",
   "nbconvert_exporter": "python",
   "pygments_lexer": "ipython3",
   "version": "3.10.4"
  },
  "orig_nbformat": 4
 },
 "nbformat": 4,
 "nbformat_minor": 2
}
